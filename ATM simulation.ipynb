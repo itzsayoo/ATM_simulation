{
 "cells": [
  {
   "cell_type": "code",
   "execution_count": null,
   "id": "92e0fa06-a0d0-4caf-940c-dbae354ef8fe",
   "metadata": {},
   "outputs": [],
   "source": [
    "#Northern Frock\n",
    "#Write a program that simulates the behaviour of a basic ATM.Follow the instructions below:\n",
    "#1. Print a main menu:Welcome to Northern Frock 2. 1 - Display balance3. 2 - Withdraw funds\n",
    "#4. 3 - Deposit funds 5. 9 - Return card Enter an option:\n",
    "# 6. If ‘1’ is entered, display the current balance and the maximum amount available for withdrawal (must be a multiple of £10), and return to main menu.\n",
    "7. If ‘2’ is entered, print a sub-menu with withdrawal amounts of:\n",
    "#Please select withdrawal amount\n",
    "#8. 1 - £10 \n",
    "#9. 2 - £20\n",
    "#10. 3 - £40\n",
    "#11. 4 - £60\n",
    "#12. 5 - £80\n",
    "#13. 6 - £100\n",
    "#14. 7 - Other amount\n",
    "#15. 8 - Return to main menu\n",
    "#Enter an option:\n",
    "#a. If ‘1 to 6’’ is selected check that the requested withdrawal is allowed, print a message to show that the money has been withdrawn, calculate the new balance and return to main menu.\n",
    "#b. If ‘7’ is selected, then prompt the user for an integer value. Check this number is a multiple of 10 and that the withdrawal is permitted, print a message to show that the money has been withdrawn, calculate the new balance and return to main menu.\n",
    "#c. If ‘8’ is selected return to main menu.\n",
    "#16. If ‘3’ is entered, provide another menu that will allow the user to enter an amount to deposit (does not need to be a multiple of £10), return to main menu or return card. If funds are deposited, provide appropriate feedback and update the balance and return to main menu.\n",
    "#17. If ‘9’ is entered, print a goodbye message and exit (break).\n",
    "#18. If another value is entered, print an error message and print the menu again."
   ]
  },
  {
   "cell_type": "code",
   "execution_count": 3,
   "id": "6aa7e253-b967-4db3-a336-b32ec309330e",
   "metadata": {},
   "outputs": [],
   "source": [
    "# Function for Login\n",
    "def login():\n",
    "    print('WELCOME TO NORTHERN FROCK.')\n",
    "    count=0\n",
    "    trials=5\n",
    "    while count<trials:\n",
    "        if count==(trials-1):\n",
    "            print('  ')\n",
    "            print('Last Attempt')\n",
    "            print('  ')\n",
    "        pin = int(input('\\n Enter your 4-Digit Pin: '))\n",
    "        userpin=1234\n",
    "        if pin==userpin:\n",
    "            print('  ')\n",
    "            print('**********          *****          **********  ')\n",
    "            print('  ')\n",
    "            print('1. DISPLAY BALANCE')\n",
    "            print('2. WITHDRAW FUNDS')\n",
    "            print('3. DEPOSIT FUNDS')\n",
    "            print('9. RETURN CARD')\n",
    "            print('  ')\n",
    "            print('**********          *****          **********  ')\n",
    "            print('  ')\n",
    "            break\n",
    "        count+=1"
   ]
  },
  {
   "cell_type": "code",
   "execution_count": 44,
   "id": "8e632048-0b02-4330-a046-89e25a78e099",
   "metadata": {},
   "outputs": [],
   "source": [
    "def balance():\n",
    "    Bal=1000\n",
    "    print('Balance is £',Bal)"
   ]
  },
  {
   "cell_type": "code",
   "execution_count": 45,
   "id": "a446cc48-2a4b-47e0-90c7-c9bb5c57107b",
   "metadata": {},
   "outputs": [],
   "source": [
    "def withdrawal():\n",
    "    print('  ')\n",
    "    print('  ')\n",
    "    print('**********          *****          **********  ')\n",
    "    print('  ')\n",
    "    print('1. £10')\n",
    "    print('2. £20')\n",
    "    print('3. £40')\n",
    "    print('4. £60')\n",
    "    print('5. £80')\n",
    "    print('6. £100')\n",
    "    print('7. Other Amounts: ')\n",
    "    print('8. Return to |Main Menu|')\n",
    "    print('  ')\n",
    "    print('**********          *****          **********  ')\n",
    "    print('  ')\n",
    "    Bal=1000\n",
    "    opt=int(input('ENTER YOUR OPTION: '))\n",
    "    if opt==1:\n",
    "        Balance=Bal-10\n",
    "        print('Balance is £',Balance)\n",
    "        print('Withdrawal completed')\n",
    "        run()\n",
    "    elif opt==2:\n",
    "        Balance=Bal-20\n",
    "        print('Balance is £',Balance)\n",
    "        print('Withdrawal completed')\n",
    "        run()\n",
    "    elif opt==3:\n",
    "        Balance=Bal-40\n",
    "        print('Balance is £',Balance)\n",
    "        print('Withdrawal completed')\n",
    "        run()\n",
    "    elif opt==4:\n",
    "        Balance=Bal-60\n",
    "        print('Balance is £',Balance)\n",
    "        print('Withdrawal completed')\n",
    "        run()\n",
    "    elif opt==5:\n",
    "        Balance=Bal-80\n",
    "        print('Balance is £',Balance)\n",
    "        print('Withdrawal completed')\n",
    "        run()\n",
    "    elif opt==6:\n",
    "        Balance=Bal-100\n",
    "        print('Balance is £',Balance)\n",
    "        print('Withdrawal completed')\n",
    "        run()\n",
    "    elif opt==7:\n",
    "        withdraw=int(input('Enter Withdrawal Amount in multiples of £10: '))\n",
    "        if (withdraw%10==0):\n",
    "            Balance=Bal-withdraw\n",
    "            print('Balance is £',Balance)\n",
    "            print('Withdrawal completed')\n",
    "        else:\n",
    "            print('Amount MUST be in multiples of £10')\n",
    "            withdraw=int(input('Enter Withdrawal Amount in multiples of £10: '))\n",
    "            if (withdraw%10==0):\n",
    "                Balance=Bal-withdraw\n",
    "                print('Balance is £',Balance)\n",
    "                print('Withdrawal completed')\n",
    "            else:\n",
    "                print('Amount MUST be in multiples of £10 \\n Try again later.')\n",
    "                run()\n",
    "    elif opt==8:\n",
    "        run()"
   ]
  },
  {
   "cell_type": "code",
   "execution_count": 29,
   "id": "6e75ff41-c8d5-480c-9ad0-f45b72e8e14b",
   "metadata": {},
   "outputs": [],
   "source": [
    "def deposit():\n",
    "     Bal=1000\n",
    "     deposit=int(input('deposit funds?'))\n",
    "     Balance= Bal+deposit\n",
    "     print('Balance is £',Balance)\n",
    "     run()"
   ]
  },
  {
   "cell_type": "code",
   "execution_count": null,
   "id": "cbf44efb-37ae-4a4b-8642-2dc13b018a23",
   "metadata": {},
   "outputs": [],
   "source": [
    " def bye():\n",
    "        print('GOODBYE')"
   ]
  },
  {
   "cell_type": "code",
   "execution_count": 42,
   "id": "4d147ed8-04c6-46e6-9268-da4773ad6456",
   "metadata": {},
   "outputs": [],
   "source": [
    "def run():\n",
    "    trials = 5\n",
    "    Userpin=1234\n",
    "    bal='£1,000.00'\n",
    "    Bal=1000\n",
    "    login()\n",
    "    option=int(input('ENTER YOUR OPTION: '))\n",
    "    if option==1:\n",
    "        balance()\n",
    "        print('Would you like to perform any other transaction: \\n 1. Yes. \\n 2. No.')\n",
    "        yes_no = int(input('Enter 1 or 2: '))\n",
    "        if yes_no==1:\n",
    "            run()\n",
    "        else:\n",
    "            pass\n",
    "    elif option==2:\n",
    "        withdrawal()\n",
    "    elif option==3:\n",
    "        deposit()\n",
    "    else:\n",
    "        option==9\n",
    "        bye()"
   ]
  },
  {
   "cell_type": "code",
   "execution_count": 43,
   "id": "b863b63d-32b1-4514-998a-468e5eb82d16",
   "metadata": {},
   "outputs": [
    {
     "name": "stdout",
     "output_type": "stream",
     "text": [
      "WELCOME TO NORTHERN FROCK.\n"
     ]
    },
    {
     "name": "stdin",
     "output_type": "stream",
     "text": [
      "\n",
      " Enter your 4-Digit Pin:  1234\n"
     ]
    },
    {
     "name": "stdout",
     "output_type": "stream",
     "text": [
      "  \n",
      "**********          *****          **********  \n",
      "  \n",
      "1. DISPLAY BALANCE\n",
      "2. WITHDRAW FUNDS\n",
      "3. DEPOSIT FUNDS\n",
      "9. RETURN CARD\n",
      "  \n",
      "**********          *****          **********  \n",
      "  \n"
     ]
    },
    {
     "name": "stdin",
     "output_type": "stream",
     "text": [
      "ENTER YOUR OPTION:  9\n"
     ]
    },
    {
     "name": "stdout",
     "output_type": "stream",
     "text": [
      "GOODBYE\n"
     ]
    }
   ],
   "source": [
    "run()"
   ]
  }
 ],
 "metadata": {
  "kernelspec": {
   "display_name": "Python 3 (ipykernel)",
   "language": "python",
   "name": "python3"
  },
  "language_info": {
   "codemirror_mode": {
    "name": "ipython",
    "version": 3
   },
   "file_extension": ".py",
   "mimetype": "text/x-python",
   "name": "python",
   "nbconvert_exporter": "python",
   "pygments_lexer": "ipython3",
   "version": "3.9.7"
  }
 },
 "nbformat": 4,
 "nbformat_minor": 5
}
